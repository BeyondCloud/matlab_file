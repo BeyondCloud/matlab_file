{
 "cells": [
  {
   "cell_type": "code",
   "execution_count": 1,
   "metadata": {},
   "outputs": [
    {
     "name": "stdout",
     "output_type": "stream",
     "text": [
      "['0'] ['960'] ['64'] ['64'] ['ㄏㄠ']\n",
      "['960'] ['480'] ['64'] ['64'] ['一']\n",
      "['1440'] ['480'] ['67'] ['64'] ['ㄉㄨㄛ']\n",
      "['1920'] ['960'] ['69'] ['64'] ['ㄇㄟ']\n",
      "['2880'] ['480'] ['72'] ['64'] ['ㄌㄧ']\n",
      "['3360'] ['480'] ['69'] ['64'] ['ㄉㄧ']\n",
      "['3840'] ['960'] ['67'] ['64'] ['ㄇㄛ']\n",
      "['4800'] ['960'] ['67'] ['64'] ['ㄌㄧ']\n",
      "['5760'] ['1920'] ['67'] ['64'] ['ㄏㄨㄚ']\n"
     ]
    }
   ],
   "source": [
    "import re\n",
    "from re import findall\n",
    "import json\n",
    "proj_name = \"foo\"  \n",
    "\n",
    "with open(proj_name+\".vsqx\",encoding = 'utf8') as f:\n",
    "    content = f.readlines()\n",
    "\n",
    "content = iter([x.strip() for x in content] )\n",
    "note_lst = []\n",
    "for txt in content:\n",
    "    \n",
    "    if txt == '<note>':\n",
    "        txt = next(content)\n",
    "        t = findall ( '<t>(.*?)<', txt, re.DOTALL)\n",
    "        txt = next(content)\n",
    "        dur = findall ( '<dur>(.*?)<', txt, re.DOTALL)\n",
    "        txt = next(content)\n",
    "        n = findall ( '<n>(.*?)<', txt, re.DOTALL)\n",
    "        txt = next(content)\n",
    "        v = findall ( '<v>(.*?)<', txt, re.DOTALL)\n",
    "        txt = next(content)\n",
    "        y = findall ( '<y><!\\[CDATA\\[(.*?)\\]', txt, re.DOTALL)\n",
    "        print(t,dur,n,v,y)\n",
    "        note = {\n",
    "            'y': y,\n",
    "            'v': v,\n",
    "            'n': n,\n",
    "            'dur':dur,\n",
    "            't':t\n",
    "        }\n",
    "        note_lst.append(note)\n",
    "        \n",
    "with open(proj_name+\".json\", 'w',encoding = 'utf8') as f:\n",
    "    json.dump(note_lst, f)"
   ]
  },
  {
   "cell_type": "code",
   "execution_count": 42,
   "metadata": {},
   "outputs": [
    {
     "name": "stdout",
     "output_type": "stream",
     "text": [
      "64\n"
     ]
    }
   ],
   "source": [
    "with open('data.json', 'r') as f:\n",
    "     data = json.load(f)\n",
    "print(data[1]['v'])"
   ]
  },
  {
   "cell_type": "code",
   "execution_count": 47,
   "metadata": {},
   "outputs": [
    {
     "name": "stdout",
     "output_type": "stream",
     "text": [
      "asdf=gh\n"
     ]
    }
   ],
   "source": [
    "import re\n",
    "s  = '[asdf=gh]'\n",
    "a = re.match('\\[(.*)\\]', s).group(1)\n",
    "print(a)\n",
    "# re ('(?<=[)(.*)(?=])', string)"
   ]
  },
  {
   "cell_type": "code",
   "execution_count": 28,
   "metadata": {},
   "outputs": [
    {
     "name": "stdout",
     "output_type": "stream",
     "text": [
      "['0'] ['960'] ['64'] ['64'] ['ㄏㄠ']\n",
      "['960'] ['480'] ['64'] ['64'] ['ㄧ']\n",
      "['1440'] ['480'] ['67'] ['64'] ['ㄉㄨㄛ']\n",
      "['1920'] ['960'] ['69'] ['64'] ['ㄇㄟ']\n",
      "['2880'] ['480'] ['72'] ['64'] ['ㄌㄧ']\n",
      "['3360'] ['480'] ['69'] ['64'] ['ㄉㄧ']\n",
      "['3840'] ['960'] ['67'] ['64'] ['ㄇㄛ']\n",
      "['4800'] ['960'] ['67'] ['64'] ['ㄌㄧ']\n",
      "['5760'] ['1920'] ['67'] ['64'] ['ㄏㄨㄚ']\n"
     ]
    }
   ],
   "source": [
    "import re\n",
    "from re import findall\n",
    "import json\n",
    "proj_name = \"foo\"  \n",
    "\n",
    "with open(proj_name+\".vsqx\",encoding = 'utf8') as f:\n",
    "    content = f.readlines()\n",
    "\n",
    "content = iter([x.strip() for x in content] )\n",
    "note_lst = []\n",
    "cc_lst = []\n",
    "for txt in content:\n",
    "    while txt[0:4] == '<cc>':\n",
    "        t = findall ( '<t>(.*?)<', txt, re.DOTALL)\n",
    "        ID = findall ( 'id=\\\"(.*?)\\\"', txt, re.DOTALL)\n",
    "        val = findall ( '\\\">(.*?)<', txt, re.DOTALL)\n",
    "        cc = {\n",
    "            't': t,\n",
    "            'ID': ID,\n",
    "            'val': val,\n",
    "        }\n",
    "        cc_lst.append(cc)\n",
    "        txt = next(content)\n",
    "        \n",
    "    if txt == '<note>':\n",
    "        txt = next(content)\n",
    "        t = findall ( '<t>(.*?)<', txt, re.DOTALL)\n",
    "        txt = next(content)\n",
    "        dur = findall ( '<dur>(.*?)<', txt, re.DOTALL)\n",
    "        txt = next(content)\n",
    "        n = findall ( '<n>(.*?)<', txt, re.DOTALL)\n",
    "        txt = next(content)\n",
    "        v = findall ( '<v>(.*?)<', txt, re.DOTALL)\n",
    "        txt = next(content)\n",
    "        y = findall ( '<y><!\\[CDATA\\[(.*?)\\]', txt, re.DOTALL)\n",
    "        print(t,dur,n,v,y)\n",
    "        note = {\n",
    "            'y': y,\n",
    "            'v': v,\n",
    "            'n': n,\n",
    "            'dur':dur,\n",
    "            't':t\n",
    "        }\n",
    "        note_lst.append(note)\n",
    "\n",
    "# # batch <cc> with note\n",
    "# idx = 0\n",
    "# for i in range(len(note_lst)):\n",
    "#     note_lst[i]['cc'].append(cc_lst[idx])\n",
    "#     note_end = note_lst[i]['t']+note_lst[i]['dur']\n",
    "#     while idx+1<len(cc_lst):\n",
    "#         if note_end>=cc_lst[idx+1]['t']:\n",
    "#             idx+=1\n",
    "#             note_lst[i]['cc'].append(cc_lst[idx])\n",
    "#         else:\n",
    "#             break\n",
    "#     print(note_lst[i]['y'])\n",
    "#     print(note_lst[i]['cc'])\n",
    "\n",
    "out = {\n",
    "        'note':note_lst,\n",
    "        'cc':cc_lst\n",
    "      }\n",
    "\n",
    "with open(proj_name+\".json\", 'w',encoding = 'utf8') as f:\n",
    "    json.dump(out, f)\n"
   ]
  },
  {
   "cell_type": "code",
   "execution_count": 5,
   "metadata": {},
   "outputs": [
    {
     "name": "stdout",
     "output_type": "stream",
     "text": [
      "162\n",
      "a\n",
      "1\n",
      "2\n",
      "3\n"
     ]
    }
   ],
   "source": [
    "print(len(cc_lst))\n",
    "print('a')\n",
    "z = [1,2,3]\n",
    "idx = 0\n",
    "while True:\n",
    "    if idx<len(z):\n",
    "        print(z[idx])\n",
    "        idx+=1\n",
    "    else:\n",
    "        break"
   ]
  }
 ],
 "metadata": {
  "kernelspec": {
   "display_name": "Python 3",
   "language": "python",
   "name": "python3"
  },
  "language_info": {
   "codemirror_mode": {
    "name": "ipython",
    "version": 3
   },
   "file_extension": ".py",
   "mimetype": "text/x-python",
   "name": "python",
   "nbconvert_exporter": "python",
   "pygments_lexer": "ipython3",
   "version": "3.6.1"
  }
 },
 "nbformat": 4,
 "nbformat_minor": 2
}
