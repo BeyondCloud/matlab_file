{
 "cells": [
  {
   "cell_type": "code",
   "execution_count": 39,
   "metadata": {},
   "outputs": [
    {
     "name": "stdout",
     "output_type": "stream",
     "text": [
      "a\n",
      "0 960 63 64 hao\n",
      "a\n",
      "960 960 63 64 yi\n",
      "[{'y': 'hao', 'v': '64', 'n': '63', 'dur': '960', 't': '0'}, {'y': 'yi', 'v': '64', 'n': '63', 'dur': '960', 't': '960'}]\n"
     ]
    }
   ],
   "source": [
    "import json\n",
    "def find_between( s, first, last ):\n",
    "    try:\n",
    "        start = s.index( first ) + len( first )\n",
    "        end = s.index( last, start )\n",
    "        return s[start:end]\n",
    "    except ValueError:\n",
    "        return \"\"\n",
    "with open('test.vsqx') as f:\n",
    "    content = f.readlines()\n",
    "\n",
    "content = iter([x.strip() for x in content] )\n",
    "note_lst = []\n",
    "for txt in content:\n",
    "    if txt == '<note>':\n",
    "        txt = next(content)\n",
    "        t = find_between(txt,\"<t>\",\"<\")\n",
    "        txt = next(content)\n",
    "        dur = find_between(txt,\"<dur>\",\"<\")\n",
    "        txt = next(content)\n",
    "        n = find_between(txt,\"<n>\",\"<\")\n",
    "        txt = next(content)\n",
    "        v = find_between(txt,\"<v>\",\"<\")\n",
    "        txt = next(content)\n",
    "        y = find_between(txt,\"<y><![CDATA[\",\"]\")\n",
    "        print(t,dur,n,v,y)\n",
    "        note = {\n",
    "            'y': y,\n",
    "            'v': v,\n",
    "            'n': n,\n",
    "            'dur':dur,\n",
    "            't':t\n",
    "        }\n",
    "        note_lst.append(note)\n",
    "        \n",
    "print(note_lst)\n",
    "with open('data.json', 'w') as f:\n",
    "    json.dump(note_lst, f)"
   ]
  },
  {
   "cell_type": "code",
   "execution_count": 42,
   "metadata": {},
   "outputs": [
    {
     "name": "stdout",
     "output_type": "stream",
     "text": [
      "64\n"
     ]
    }
   ],
   "source": [
    "with open('data.json', 'r') as f:\n",
    "     data = json.load(f)\n",
    "print(data[1]['v'])"
   ]
  }
 ],
 "metadata": {
  "kernelspec": {
   "display_name": "Python 3",
   "language": "python",
   "name": "python3"
  },
  "language_info": {
   "codemirror_mode": {
    "name": "ipython",
    "version": 3
   },
   "file_extension": ".py",
   "mimetype": "text/x-python",
   "name": "python",
   "nbconvert_exporter": "python",
   "pygments_lexer": "ipython3",
   "version": "3.6.1"
  }
 },
 "nbformat": 4,
 "nbformat_minor": 2
}
