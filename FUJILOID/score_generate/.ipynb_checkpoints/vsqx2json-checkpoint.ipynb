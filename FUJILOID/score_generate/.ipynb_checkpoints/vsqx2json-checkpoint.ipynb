{
 "cells": [
  {
   "cell_type": "code",
   "execution_count": 67,
   "metadata": {},
   "outputs": [
    {
     "ename": "UnicodeDecodeError",
     "evalue": "'big5' codec can't decode byte 0xe3 in position 2255: illegal multibyte sequence",
     "output_type": "error",
     "traceback": [
      "\u001b[1;31m---------------------------------------------------------------------------\u001b[0m",
      "\u001b[1;31mUnicodeDecodeError\u001b[0m                        Traceback (most recent call last)",
      "\u001b[1;32m<ipython-input-67-60860c735455>\u001b[0m in \u001b[0;36m<module>\u001b[1;34m()\u001b[0m\n\u001b[0;32m      4\u001b[0m \u001b[1;33m\u001b[0m\u001b[0m\n\u001b[0;32m      5\u001b[0m \u001b[1;32mwith\u001b[0m \u001b[0mopen\u001b[0m\u001b[1;33m(\u001b[0m\u001b[0mproj_name\u001b[0m\u001b[1;33m+\u001b[0m\u001b[1;34m\".vsqx\"\u001b[0m\u001b[1;33m,\u001b[0m\u001b[0mencoding\u001b[0m \u001b[1;33m=\u001b[0m \u001b[1;34m'big5'\u001b[0m\u001b[1;33m)\u001b[0m \u001b[1;32mas\u001b[0m \u001b[0mf\u001b[0m\u001b[1;33m:\u001b[0m\u001b[1;33m\u001b[0m\u001b[0m\n\u001b[1;32m----> 6\u001b[1;33m     \u001b[0mcontent\u001b[0m \u001b[1;33m=\u001b[0m \u001b[0mf\u001b[0m\u001b[1;33m.\u001b[0m\u001b[0mreadlines\u001b[0m\u001b[1;33m(\u001b[0m\u001b[1;33m)\u001b[0m\u001b[1;33m\u001b[0m\u001b[0m\n\u001b[0m\u001b[0;32m      7\u001b[0m \u001b[1;33m\u001b[0m\u001b[0m\n\u001b[0;32m      8\u001b[0m \u001b[0mcontent\u001b[0m \u001b[1;33m=\u001b[0m \u001b[0miter\u001b[0m\u001b[1;33m(\u001b[0m\u001b[1;33m[\u001b[0m\u001b[0mx\u001b[0m\u001b[1;33m.\u001b[0m\u001b[0mstrip\u001b[0m\u001b[1;33m(\u001b[0m\u001b[1;33m)\u001b[0m \u001b[1;32mfor\u001b[0m \u001b[0mx\u001b[0m \u001b[1;32min\u001b[0m \u001b[0mcontent\u001b[0m\u001b[1;33m]\u001b[0m \u001b[1;33m)\u001b[0m\u001b[1;33m\u001b[0m\u001b[0m\n",
      "\u001b[1;31mUnicodeDecodeError\u001b[0m: 'big5' codec can't decode byte 0xe3 in position 2255: illegal multibyte sequence"
     ]
    }
   ],
   "source": [
    "from re import findall\n",
    "import json\n",
    "proj_name = \"MoLiHua\"  \n",
    "\n",
    "with open(proj_name+\".vsqx\",encoding = 'utf8') as f:\n",
    "    content = f.readlines()\n",
    "\n",
    "content = iter([x.strip() for x in content] )\n",
    "note_lst = []\n",
    "for txt in content:\n",
    "    if txt == '<note>':\n",
    "        txt = next(content)\n",
    "        t = findall ( '<t>(.*?)<', txt, re.DOTALL)\n",
    "        txt = next(content)\n",
    "        dur = findall ( '<dur>(.*?)<', txt, re.DOTALL)\n",
    "        txt = next(content)\n",
    "        n = findall ( '<n>(.*?)<', txt, re.DOTALL)\n",
    "        txt = next(content)\n",
    "        v = findall ( '<v>(.*?)<', txt, re.DOTALL)\n",
    "        txt = next(content)\n",
    "        y = findall ( '<y><!\\[CDATA\\[(.*?)\\]', txt, re.DOTALL)\n",
    "        print(t,dur,n,v,y)\n",
    "        note = {\n",
    "            'y': y,\n",
    "            'v': v,\n",
    "            'n': n,\n",
    "            'dur':dur,\n",
    "            't':t\n",
    "        }\n",
    "        note_lst.append(note)\n",
    "        \n",
    "with open(proj_name+\".json\", 'w',encoding = 'utf8') as f:\n",
    "    json.dump(note_lst, f)"
   ]
  },
  {
   "cell_type": "code",
   "execution_count": 42,
   "metadata": {},
   "outputs": [
    {
     "name": "stdout",
     "output_type": "stream",
     "text": [
      "64\n"
     ]
    }
   ],
   "source": [
    "with open('data.json', 'r') as f:\n",
    "     data = json.load(f)\n",
    "print(data[1]['v'])"
   ]
  },
  {
   "cell_type": "code",
   "execution_count": 47,
   "metadata": {},
   "outputs": [
    {
     "name": "stdout",
     "output_type": "stream",
     "text": [
      "asdf=gh\n"
     ]
    }
   ],
   "source": [
    "import re\n",
    "s  = '[asdf=gh]'\n",
    "a = re.match('\\[(.*)\\]', s).group(1)\n",
    "print(a)\n",
    "# re ('(?<=[)(.*)(?=])', string)"
   ]
  }
 ],
 "metadata": {
  "kernelspec": {
   "display_name": "Python 3",
   "language": "python",
   "name": "python3"
  },
  "language_info": {
   "codemirror_mode": {
    "name": "ipython",
    "version": 3
   },
   "file_extension": ".py",
   "mimetype": "text/x-python",
   "name": "python",
   "nbconvert_exporter": "python",
   "pygments_lexer": "ipython3",
   "version": "3.6.1"
  }
 },
 "nbformat": 4,
 "nbformat_minor": 2
}
