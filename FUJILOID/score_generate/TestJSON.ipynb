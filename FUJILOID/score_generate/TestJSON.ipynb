{
 "cells": [
  {
   "cell_type": "code",
   "execution_count": 13,
   "metadata": {},
   "outputs": [
    {
     "name": "stdout",
     "output_type": "stream",
     "text": [
      "[{'pron': 'hao', 'note': 63, 'len': 700}, {'pron': 'yi', 'note': 63, 'len': 300}, {'pron': 'yi', 'note': 63, 'len': 300}]\n"
     ]
    }
   ],
   "source": [
    "import json\n",
    "\n",
    "data =[\n",
    "        {\n",
    "        'pron': 'hao',\n",
    "        'note': 63,\n",
    "        'len': 700\n",
    "        },\n",
    "        {\n",
    "        'pron': 'yi',\n",
    "        'note': 63,\n",
    "        'len': 300\n",
    "        }\n",
    "    ]\n",
    "\n",
    "\n",
    "with open('data.json', 'w') as f:\n",
    "     json.dump(data, f)\n",
    "G = {\n",
    "        'pron': 'yi',\n",
    "        'note': 63,\n",
    "        'len': 300\n",
    "    }\n",
    "data.append(G)\n",
    "\n",
    "print(data[0:3])"
   ]
  },
  {
   "cell_type": "code",
   "execution_count": null,
   "metadata": {
    "collapsed": true
   },
   "outputs": [],
   "source": [
    "import json\n",
    "with open('data.json', 'r') as f:\n",
    "     data = json.load(f)\n",
    "print(data['Note'][0])"
   ]
  }
 ],
 "metadata": {
  "kernelspec": {
   "display_name": "Python 3",
   "language": "python",
   "name": "python3"
  },
  "language_info": {
   "codemirror_mode": {
    "name": "ipython",
    "version": 3
   },
   "file_extension": ".py",
   "mimetype": "text/x-python",
   "name": "python",
   "nbconvert_exporter": "python",
   "pygments_lexer": "ipython3",
   "version": "3.6.1"
  }
 },
 "nbformat": 4,
 "nbformat_minor": 2
}
